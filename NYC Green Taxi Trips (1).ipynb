{
 "cells": [
  {
   "cell_type": "code",
   "execution_count": 1,
   "id": "4681399a-bfc5-435c-b6ba-b9b4473fee5c",
   "metadata": {},
   "outputs": [],
   "source": [
    "import pandas as pd\n",
    "import numpy as np\n",
    "import matplotlib.pyplot as plt\n",
    "%matplotlib inline"
   ]
  },
  {
   "cell_type": "code",
   "execution_count": 2,
   "id": "c8904b3b-b00f-433b-9a2e-dfffafaeeee3",
   "metadata": {},
   "outputs": [
    {
     "name": "stdout",
     "output_type": "stream",
     "text": [
      "C:\\Users\\kaila\\OneDrive\\Desktop\\Datasets\n"
     ]
    }
   ],
   "source": [
    "import io\n",
    "%cd \"C:\\Users\\kaila\\OneDrive\\Desktop\\Datasets\""
   ]
  },
  {
   "cell_type": "code",
   "execution_count": 3,
   "id": "e832acdb-5e34-49cb-a1df-b9161f69df59",
   "metadata": {},
   "outputs": [],
   "source": [
    "greentaxi=pd.read_parquet(\"green_tripdata_2024-01.parquet\",engine=\"pyarrow\") \n",
    "# pyarrow library for importing parquet files"
   ]
  },
  {
   "cell_type": "code",
   "execution_count": 4,
   "id": "4481b78a-ef7b-4c68-a291-a369234fd2c6",
   "metadata": {},
   "outputs": [
    {
     "name": "stdout",
     "output_type": "stream",
     "text": [
      "<class 'pandas.core.frame.DataFrame'>\n",
      "RangeIndex: 56551 entries, 0 to 56550\n",
      "Data columns (total 20 columns):\n",
      " #   Column                 Non-Null Count  Dtype         \n",
      "---  ------                 --------------  -----         \n",
      " 0   VendorID               56551 non-null  int32         \n",
      " 1   lpep_pickup_datetime   56551 non-null  datetime64[us]\n",
      " 2   lpep_dropoff_datetime  56551 non-null  datetime64[us]\n",
      " 3   store_and_fwd_flag     53136 non-null  object        \n",
      " 4   RatecodeID             53136 non-null  float64       \n",
      " 5   PULocationID           56551 non-null  int32         \n",
      " 6   DOLocationID           56551 non-null  int32         \n",
      " 7   passenger_count        53136 non-null  float64       \n",
      " 8   trip_distance          56551 non-null  float64       \n",
      " 9   fare_amount            56551 non-null  float64       \n",
      " 10  extra                  56551 non-null  float64       \n",
      " 11  mta_tax                56551 non-null  float64       \n",
      " 12  tip_amount             56551 non-null  float64       \n",
      " 13  tolls_amount           56551 non-null  float64       \n",
      " 14  ehail_fee              0 non-null      float64       \n",
      " 15  improvement_surcharge  56551 non-null  float64       \n",
      " 16  total_amount           56551 non-null  float64       \n",
      " 17  payment_type           53136 non-null  float64       \n",
      " 18  trip_type              53133 non-null  float64       \n",
      " 19  congestion_surcharge   53136 non-null  float64       \n",
      "dtypes: datetime64[us](2), float64(14), int32(3), object(1)\n",
      "memory usage: 8.0+ MB\n"
     ]
    }
   ],
   "source": [
    "greentaxi.info()\n",
    "\n",
    "# Preprocessing tasks - 1) Drop ehail_fee column. \n",
    "# 2) Calulate New Variable trip_duration = dropoff-pickup\n",
    "# 3) Imputation of Missing Values - Categorical - store_and_fwd_flag, RatecodeID,payment_type,\n",
    "# trip_type. Numeric - passenger_count,  congestion_surcharge\n",
    "# 4) Extract hour, weekday from dropoff date variable"
   ]
  },
  {
   "cell_type": "code",
   "execution_count": 5,
   "id": "723eeedf-eeec-499c-bf46-cc62ee1a14e3",
   "metadata": {},
   "outputs": [],
   "source": [
    "greentaxi=greentaxi.drop('ehail_fee',axis=1)"
   ]
  },
  {
   "cell_type": "code",
   "execution_count": 6,
   "id": "7cd44851-4653-4fc6-86e0-e66ec7732798",
   "metadata": {},
   "outputs": [],
   "source": [
    "# New variable - trip_duration\n",
    "greentaxi['trip_duration']=greentaxi.lpep_dropoff_datetime-greentaxi.lpep_pickup_datetime"
   ]
  },
  {
   "cell_type": "code",
   "execution_count": 7,
   "id": "a4054b01-c5eb-43ec-a5f9-fe2d079a7e75",
   "metadata": {},
   "outputs": [],
   "source": [
    "greentaxi.trip_duration=greentaxi.trip_duration.dt.total_seconds()/60 # Convert timedelta to minutes"
   ]
  },
  {
   "cell_type": "code",
   "execution_count": 8,
   "id": "5730d99d-aaa0-4b81-9bb7-a423cb010a89",
   "metadata": {},
   "outputs": [],
   "source": [
    "greentaxi['hour']=greentaxi.lpep_dropoff_datetime.dt.hour # New Variable hour"
   ]
  },
  {
   "cell_type": "code",
   "execution_count": 9,
   "id": "7a30791d-9fb8-47c2-8b87-bace5847f95d",
   "metadata": {},
   "outputs": [],
   "source": [
    "greentaxi['weekday']=greentaxi.lpep_dropoff_datetime.dt.day_name() # New variable weekday"
   ]
  },
  {
   "cell_type": "code",
   "execution_count": 10,
   "id": "890b0a9a-8c71-4946-87c9-b1e7fcf821b0",
   "metadata": {},
   "outputs": [
    {
     "data": {
      "text/plain": [
       "0    Monday\n",
       "1    Monday\n",
       "2    Monday\n",
       "3    Monday\n",
       "4    Monday\n",
       "Name: weekday, dtype: object"
      ]
     },
     "execution_count": 10,
     "metadata": {},
     "output_type": "execute_result"
    }
   ],
   "source": [
    "greentaxi.weekday.head()"
   ]
  },
  {
   "cell_type": "code",
   "execution_count": 11,
   "id": "95a127e0-29b1-40fc-a330-9ccfe9b68e34",
   "metadata": {},
   "outputs": [],
   "source": [
    "#3) Imputation of Missing Values - Categorical - store_and_fwd_flag, RatecodeID,payment_type,\n",
    "# trip_type. Numeric - passenger_count,  congestion_surcharge"
   ]
  },
  {
   "cell_type": "code",
   "execution_count": 12,
   "id": "809e6d25-a343-4c80-ad2c-257e69dd8f70",
   "metadata": {},
   "outputs": [
    {
     "name": "stdout",
     "output_type": "stream",
     "text": [
      "store_and_fwd_flag\n",
      "N       53021\n",
      "None     3415\n",
      "Y         115\n",
      "Name: count, dtype: int64\n",
      "RatecodeID\n",
      "1.0     51077\n",
      "NaN      3415\n",
      "5.0      1867\n",
      "2.0       127\n",
      "4.0        43\n",
      "3.0        19\n",
      "99.0        3\n",
      "Name: count, dtype: int64\n",
      "payment_type\n",
      "1.0    36660\n",
      "2.0    15913\n",
      "NaN     3415\n",
      "3.0      434\n",
      "4.0      128\n",
      "5.0        1\n",
      "Name: count, dtype: int64\n",
      "trip_type\n",
      "1.0    51397\n",
      "NaN     3418\n",
      "2.0     1736\n",
      "Name: count, dtype: int64\n"
     ]
    }
   ],
   "source": [
    "for col in ['store_and_fwd_flag', 'RatecodeID','payment_type','trip_type']:\n",
    "    freq=greentaxi[col].value_counts(dropna=False)\n",
    "    print(freq)"
   ]
  },
  {
   "cell_type": "code",
   "execution_count": 13,
   "id": "3ce8002a-5f44-4045-8634-e1fc0e08139a",
   "metadata": {},
   "outputs": [],
   "source": [
    "for col in ['store_and_fwd_flag', 'RatecodeID','payment_type','trip_type']:\n",
    "    greentaxi[col]=greentaxi[col].fillna(greentaxi[col].value_counts().idxmax())"
   ]
  },
  {
   "cell_type": "code",
   "execution_count": 14,
   "id": "3f7dd1ca-5363-474b-b27c-ae0ef46e8ae8",
   "metadata": {},
   "outputs": [
    {
     "data": {
      "text/html": [
       "<div>\n",
       "<style scoped>\n",
       "    .dataframe tbody tr th:only-of-type {\n",
       "        vertical-align: middle;\n",
       "    }\n",
       "\n",
       "    .dataframe tbody tr th {\n",
       "        vertical-align: top;\n",
       "    }\n",
       "\n",
       "    .dataframe thead th {\n",
       "        text-align: right;\n",
       "    }\n",
       "</style>\n",
       "<table border=\"1\" class=\"dataframe\">\n",
       "  <thead>\n",
       "    <tr style=\"text-align: right;\">\n",
       "      <th></th>\n",
       "      <th>passenger_count</th>\n",
       "      <th>congestion_surcharge</th>\n",
       "    </tr>\n",
       "  </thead>\n",
       "  <tbody>\n",
       "    <tr>\n",
       "      <th>count</th>\n",
       "      <td>53136.000000</td>\n",
       "      <td>53136.000000</td>\n",
       "    </tr>\n",
       "    <tr>\n",
       "      <th>mean</th>\n",
       "      <td>1.309169</td>\n",
       "      <td>0.777138</td>\n",
       "    </tr>\n",
       "    <tr>\n",
       "      <th>std</th>\n",
       "      <td>0.978252</td>\n",
       "      <td>1.238011</td>\n",
       "    </tr>\n",
       "    <tr>\n",
       "      <th>min</th>\n",
       "      <td>0.000000</td>\n",
       "      <td>-2.750000</td>\n",
       "    </tr>\n",
       "    <tr>\n",
       "      <th>25%</th>\n",
       "      <td>1.000000</td>\n",
       "      <td>0.000000</td>\n",
       "    </tr>\n",
       "    <tr>\n",
       "      <th>50%</th>\n",
       "      <td>1.000000</td>\n",
       "      <td>0.000000</td>\n",
       "    </tr>\n",
       "    <tr>\n",
       "      <th>75%</th>\n",
       "      <td>1.000000</td>\n",
       "      <td>2.750000</td>\n",
       "    </tr>\n",
       "    <tr>\n",
       "      <th>max</th>\n",
       "      <td>9.000000</td>\n",
       "      <td>2.750000</td>\n",
       "    </tr>\n",
       "  </tbody>\n",
       "</table>\n",
       "</div>"
      ],
      "text/plain": [
       "       passenger_count  congestion_surcharge\n",
       "count     53136.000000          53136.000000\n",
       "mean          1.309169              0.777138\n",
       "std           0.978252              1.238011\n",
       "min           0.000000             -2.750000\n",
       "25%           1.000000              0.000000\n",
       "50%           1.000000              0.000000\n",
       "75%           1.000000              2.750000\n",
       "max           9.000000              2.750000"
      ]
     },
     "execution_count": 14,
     "metadata": {},
     "output_type": "execute_result"
    }
   ],
   "source": [
    "greentaxi[['passenger_count','congestion_surcharge']].describe()"
   ]
  },
  {
   "cell_type": "code",
   "execution_count": 15,
   "id": "2fc21d59-d4f8-4db0-95fc-9e145d4aaf47",
   "metadata": {},
   "outputs": [],
   "source": [
    "for col in ['passenger_count','congestion_surcharge']:\n",
    "    greentaxi[col]=greentaxi[col].fillna(greentaxi[col].median())"
   ]
  },
  {
   "cell_type": "code",
   "execution_count": 16,
   "id": "20d5eb22-61a6-4ffb-862c-4a82f4956f5f",
   "metadata": {},
   "outputs": [],
   "source": [
    "# EDA\n",
    "# Pie Diagrams of - trip_type, payment_type and RatecodeID\n",
    "\n",
    "# Stacked Bar Diagram - weekday & trip_type, weekday & payment_type, hour & payment_type\n",
    "\n",
    "# groupby() mean() : weekday & total_amount, hour & total_amount, payment_type & trip_duration\n",
    "# weekday & trip_duration, hour & trip_duration, payment_type & total_amount(Convert to Barplot)\n",
    "\n",
    "# groupby() sum() - weekday & tip_amount, hour & tip_amount, trip_type & tip_amount, payment_type\n",
    "# & tip_amount(Convert to Barplot)"
   ]
  },
  {
   "cell_type": "code",
   "execution_count": 17,
   "id": "6bb8e317-2212-466d-a2d0-d7cc189ebea4",
   "metadata": {},
   "outputs": [
    {
     "data": {
      "image/png": "[encoded data removed]",
      "text/plain": [
       "<Figure size 640x480 with 1 Axes>"
      ]
     },
     "metadata": {},
     "output_type": "display_data"
    },
    {
     "data": {
      "image/png": "[encoded data removed]",
      "text/plain": [
       "<Figure size 640x480 with 1 Axes>"
      ]
     },
     "metadata": {},
     "output_type": "display_data"
    },
    {
     "data": {
      "image/png": "[encoded data removed]",
      "text/plain": [
       "<Figure size 640x480 with 1 Axes>"
      ]
     },
     "metadata": {},
     "output_type": "display_data"
    }
   ],
   "source": [
    "for col in ['trip_type','payment_type','RatecodeID']:\n",
    "    greentaxi[col].value_counts().plot(kind=\"pie\",autopct=\"%.2f%%\")\n",
    "    plt.title(col)\n",
    "    plt.show()"
   ]
  },
  {
   "cell_type": "code",
   "execution_count": 18,
   "id": "a75f315a-a220-45d0-86c7-d33a7013ed81",
   "metadata": {},
   "outputs": [
    {
     "data": {
      "text/plain": [
       "<Axes: xlabel='weekday'>"
      ]
     },
     "execution_count": 18,
     "metadata": {},
     "output_type": "execute_result"
    },
    {
     "data": {
      "image/png": "[encoded data removed]",
      "text/plain": [
       "<Figure size 640x480 with 1 Axes>"
      ]
     },
     "metadata": {},
     "output_type": "display_data"
    }
   ],
   "source": [
    "pd.crosstab(greentaxi.weekday,greentaxi.trip_type).plot(kind=\"bar\",stacked=True)"
   ]
  },
  {
   "cell_type": "code",
   "execution_count": 19,
   "id": "98d5dcc1-43bb-4a04-bf6a-2327012bd0b0",
   "metadata": {},
   "outputs": [
    {
     "data": {
      "image/png": "[encoded data removed]",
      "text/plain": [
       "<Figure size 640x480 with 1 Axes>"
      ]
     },
     "metadata": {},
     "output_type": "display_data"
    }
   ],
   "source": [
    "ax=greentaxi.total_amount.groupby(greentaxi.weekday).mean().plot(kind=\"bar\")\n",
    "for i in ax.containers:\n",
    "    ax.bar_label(i)"
   ]
  },
  {
   "cell_type": "code",
   "execution_count": 20,
   "id": "813d061e-b98b-4cc8-b3c5-3ffa8a891bdf",
   "metadata": {},
   "outputs": [],
   "source": [
    "numcols=greentaxi[['passenger_count', 'trip_distance', 'fare_amount', 'extra', 'mta_tax',\n",
    "       'tip_amount', 'tolls_amount', 'improvement_surcharge', 'total_amount','congestion_surcharge', \n",
    "                   'trip_duration']]\n",
    "catcols=greentaxi[['store_and_fwd_flag', 'RatecodeID','payment_type', 'trip_type','hour', 'weekday']]"
   ]
  },
  {
   "cell_type": "code",
   "execution_count": 21,
   "id": "84470d4a-c930-4da5-b5ce-c0ac33610f63",
   "metadata": {},
   "outputs": [],
   "source": [
    "# groupby() mean() and variance() of all numeric variables with trip_type\n",
    "# 2 Sample T test with trip_type and all numeric variables"
   ]
  },
  {
   "cell_type": "code",
   "execution_count": 22,
   "id": "1521d561-63b5-478c-b2b7-8996d75f6cc1",
   "metadata": {},
   "outputs": [
    {
     "data": {
      "text/html": [
       "<div>\n",
       "<style scoped>\n",
       "    .dataframe tbody tr th:only-of-type {\n",
       "        vertical-align: middle;\n",
       "    }\n",
       "\n",
       "    .dataframe tbody tr th {\n",
       "        vertical-align: top;\n",
       "    }\n",
       "\n",
       "    .dataframe thead th {\n",
       "        text-align: right;\n",
       "    }\n",
       "</style>\n",
       "<table border=\"1\" class=\"dataframe\">\n",
       "  <thead>\n",
       "    <tr style=\"text-align: right;\">\n",
       "      <th></th>\n",
       "      <th>passenger_count</th>\n",
       "      <th>trip_distance</th>\n",
       "      <th>fare_amount</th>\n",
       "      <th>extra</th>\n",
       "      <th>mta_tax</th>\n",
       "      <th>tip_amount</th>\n",
       "      <th>tolls_amount</th>\n",
       "      <th>improvement_surcharge</th>\n",
       "      <th>total_amount</th>\n",
       "      <th>congestion_surcharge</th>\n",
       "      <th>trip_duration</th>\n",
       "    </tr>\n",
       "    <tr>\n",
       "      <th>trip_type</th>\n",
       "      <th></th>\n",
       "      <th></th>\n",
       "      <th></th>\n",
       "      <th></th>\n",
       "      <th></th>\n",
       "      <th></th>\n",
       "      <th></th>\n",
       "      <th></th>\n",
       "      <th></th>\n",
       "      <th></th>\n",
       "      <th></th>\n",
       "    </tr>\n",
       "  </thead>\n",
       "  <tbody>\n",
       "    <tr>\n",
       "      <th>1.0</th>\n",
       "      <td>1.290961</td>\n",
       "      <td>32.414373</td>\n",
       "      <td>16.531108</td>\n",
       "      <td>0.927519</td>\n",
       "      <td>0.594814</td>\n",
       "      <td>2.256429</td>\n",
       "      <td>0.192463</td>\n",
       "      <td>0.986620</td>\n",
       "      <td>22.064192</td>\n",
       "      <td>0.747013</td>\n",
       "      <td>18.328002</td>\n",
       "    </tr>\n",
       "    <tr>\n",
       "      <th>2.0</th>\n",
       "      <td>1.275922</td>\n",
       "      <td>2.339119</td>\n",
       "      <td>29.501573</td>\n",
       "      <td>0.061924</td>\n",
       "      <td>0.004608</td>\n",
       "      <td>2.259073</td>\n",
       "      <td>0.151382</td>\n",
       "      <td>0.930645</td>\n",
       "      <td>33.107074</td>\n",
       "      <td>0.199597</td>\n",
       "      <td>13.225931</td>\n",
       "    </tr>\n",
       "  </tbody>\n",
       "</table>\n",
       "</div>"
      ],
      "text/plain": [
       "           passenger_count  trip_distance  fare_amount     extra   mta_tax  \\\n",
       "trip_type                                                                    \n",
       "1.0               1.290961      32.414373    16.531108  0.927519  0.594814   \n",
       "2.0               1.275922       2.339119    29.501573  0.061924  0.004608   \n",
       "\n",
       "           tip_amount  tolls_amount  improvement_surcharge  total_amount  \\\n",
       "trip_type                                                                  \n",
       "1.0          2.256429      0.192463               0.986620     22.064192   \n",
       "2.0          2.259073      0.151382               0.930645     33.107074   \n",
       "\n",
       "           congestion_surcharge  trip_duration  \n",
       "trip_type                                       \n",
       "1.0                    0.747013      18.328002  \n",
       "2.0                    0.199597      13.225931  "
      ]
     },
     "execution_count": 22,
     "metadata": {},
     "output_type": "execute_result"
    }
   ],
   "source": [
    "numcols.groupby(catcols.trip_type).mean()"
   ]
  },
  {
   "cell_type": "code",
   "execution_count": 23,
   "id": "2aa174b5-ab0a-4f05-9001-5a4796c94b9e",
   "metadata": {},
   "outputs": [
    {
     "data": {
      "text/html": [
       "<div>\n",
       "<style scoped>\n",
       "    .dataframe tbody tr th:only-of-type {\n",
       "        vertical-align: middle;\n",
       "    }\n",
       "\n",
       "    .dataframe tbody tr th {\n",
       "        vertical-align: top;\n",
       "    }\n",
       "\n",
       "    .dataframe thead th {\n",
       "        text-align: right;\n",
       "    }\n",
       "</style>\n",
       "<table border=\"1\" class=\"dataframe\">\n",
       "  <thead>\n",
       "    <tr style=\"text-align: right;\">\n",
       "      <th></th>\n",
       "      <th>passenger_count</th>\n",
       "      <th>trip_distance</th>\n",
       "      <th>fare_amount</th>\n",
       "      <th>extra</th>\n",
       "      <th>mta_tax</th>\n",
       "      <th>tip_amount</th>\n",
       "      <th>tolls_amount</th>\n",
       "      <th>improvement_surcharge</th>\n",
       "      <th>total_amount</th>\n",
       "      <th>congestion_surcharge</th>\n",
       "      <th>trip_duration</th>\n",
       "    </tr>\n",
       "    <tr>\n",
       "      <th>trip_type</th>\n",
       "      <th></th>\n",
       "      <th></th>\n",
       "      <th></th>\n",
       "      <th></th>\n",
       "      <th></th>\n",
       "      <th></th>\n",
       "      <th></th>\n",
       "      <th></th>\n",
       "      <th></th>\n",
       "      <th></th>\n",
       "      <th></th>\n",
       "    </tr>\n",
       "  </thead>\n",
       "  <tbody>\n",
       "    <tr>\n",
       "      <th>1.0</th>\n",
       "      <td>0.915030</td>\n",
       "      <td>2.072798e+06</td>\n",
       "      <td>198.279596</td>\n",
       "      <td>1.830929</td>\n",
       "      <td>0.139696</td>\n",
       "      <td>7.677652</td>\n",
       "      <td>1.410986</td>\n",
       "      <td>0.017355</td>\n",
       "      <td>248.368499</td>\n",
       "      <td>1.495757</td>\n",
       "      <td>5705.587253</td>\n",
       "    </tr>\n",
       "    <tr>\n",
       "      <th>2.0</th>\n",
       "      <td>0.575697</td>\n",
       "      <td>1.725122e+01</td>\n",
       "      <td>1258.409724</td>\n",
       "      <td>0.331178</td>\n",
       "      <td>0.004878</td>\n",
       "      <td>21.801799</td>\n",
       "      <td>1.634900</td>\n",
       "      <td>0.086242</td>\n",
       "      <td>1406.446268</td>\n",
       "      <td>0.509346</td>\n",
       "      <td>5336.226873</td>\n",
       "    </tr>\n",
       "  </tbody>\n",
       "</table>\n",
       "</div>"
      ],
      "text/plain": [
       "           passenger_count  trip_distance  fare_amount     extra   mta_tax  \\\n",
       "trip_type                                                                    \n",
       "1.0               0.915030   2.072798e+06   198.279596  1.830929  0.139696   \n",
       "2.0               0.575697   1.725122e+01  1258.409724  0.331178  0.004878   \n",
       "\n",
       "           tip_amount  tolls_amount  improvement_surcharge  total_amount  \\\n",
       "trip_type                                                                  \n",
       "1.0          7.677652      1.410986               0.017355    248.368499   \n",
       "2.0         21.801799      1.634900               0.086242   1406.446268   \n",
       "\n",
       "           congestion_surcharge  trip_duration  \n",
       "trip_type                                       \n",
       "1.0                    1.495757    5705.587253  \n",
       "2.0                    0.509346    5336.226873  "
      ]
     },
     "execution_count": 23,
     "metadata": {},
     "output_type": "execute_result"
    }
   ],
   "source": [
    "numcols.groupby(catcols.trip_type).var()"
   ]
  },
  {
   "cell_type": "code",
   "execution_count": 24,
   "id": "df69626e-bd60-499c-8f69-2ce292dc8ab4",
   "metadata": {},
   "outputs": [
    {
     "name": "stderr",
     "output_type": "stream",
     "text": [
      "C:\\Users\\kaila\\AppData\\Local\\Temp\\ipykernel_26724\\292712031.py:1: SettingWithCopyWarning: \n",
      "A value is trying to be set on a copy of a slice from a DataFrame.\n",
      "Try using .loc[row_indexer,col_indexer] = value instead\n",
      "\n",
      "See the caveats in the documentation: https://pandas.pydata.org/pandas-docs/stable/user_guide/indexing.html#returning-a-view-versus-a-copy\n",
      "  numcols['trip_type']=catcols.trip_type\n"
     ]
    }
   ],
   "source": [
    "numcols['trip_type']=catcols.trip_type"
   ]
  },
  {
   "cell_type": "code",
   "execution_count": 25,
   "id": "1fd472b0-9a01-48b4-882d-52218d2979c8",
   "metadata": {},
   "outputs": [
    {
     "name": "stdout",
     "output_type": "stream",
     "text": [
      "T_test for passenger_count:\n",
      "Null Hypothesis: There is no Significant difference in Average passenger_count between trip_type 1 & 2\n",
      "t-statistic: 0.8058014905452401\n",
      "p-value: 0.4204574208515064\n",
      "Hypothesis Inference: Fail to Reject Null Hypothesis\n",
      "\n",
      "T_test for trip_distance:\n",
      "Null Hypothesis: There is no Significant difference in Average trip_distance between trip_type 1 & 2\n",
      "t-statistic: 4.89016414134343\n",
      "p-value: 1.0103651579213097e-06\n",
      "Hypothesis Inference: Reject Null Hypothesis\n",
      "\n",
      "T_test for fare_amount:\n",
      "Null Hypothesis: There is no Significant difference in Average fare_amount between trip_type 1 & 2\n",
      "t-statistic: -15.196321045682597\n",
      "p-value: 4.360610339003442e-49\n",
      "Hypothesis Inference: Reject Null Hypothesis\n",
      "\n",
      "T_test for extra:\n",
      "Null Hypothesis: There is no Significant difference in Average extra between trip_type 1 & 2\n",
      "t-statistic: 57.812740778448244\n",
      "p-value: 0.0\n",
      "Hypothesis Inference: Reject Null Hypothesis\n",
      "\n",
      "T_test for mta_tax:\n",
      "Null Hypothesis: There is no Significant difference in Average mta_tax between trip_type 1 & 2\n",
      "t-statistic: 254.9696970625856\n",
      "p-value: 0.0\n",
      "Hypothesis Inference: Reject Null Hypothesis\n",
      "\n",
      "T_test for tip_amount:\n",
      "Null Hypothesis: There is no Significant difference in Average tip_amount between trip_type 1 & 2\n",
      "t-statistic: -0.023460093239064724\n",
      "p-value: 0.9812859092597681\n",
      "Hypothesis Inference: Fail to Reject Null Hypothesis\n",
      "\n",
      "T_test for tolls_amount:\n",
      "Null Hypothesis: There is no Significant difference in Average tolls_amount between trip_type 1 & 2\n",
      "t-statistic: 1.3207109342649221\n",
      "p-value: 0.1867628025012119\n",
      "Hypothesis Inference: Fail to Reject Null Hypothesis\n",
      "\n",
      "T_test for improvement_surcharge:\n",
      "Null Hypothesis: There is no Significant difference in Average improvement_surcharge between trip_type 1 & 2\n",
      "t-statistic: 7.916487554785629\n",
      "p-value: 4.291067599502764e-15\n",
      "Hypothesis Inference: Reject Null Hypothesis\n",
      "\n",
      "T_test for total_amount:\n",
      "Null Hypothesis: There is no Significant difference in Average total_amount between trip_type 1 & 2\n",
      "t-statistic: -12.234455019932795\n",
      "p-value: 4.3508537422688585e-33\n",
      "Hypothesis Inference: Reject Null Hypothesis\n",
      "\n",
      "T_test for congestion_surcharge:\n",
      "Null Hypothesis: There is no Significant difference in Average congestion_surcharge between trip_type 1 & 2\n",
      "t-statistic: 30.568576080692342\n",
      "p-value: 1.0291814599073747e-169\n",
      "Hypothesis Inference: Reject Null Hypothesis\n",
      "\n",
      "T_test for trip_duration:\n",
      "Null Hypothesis: There is no Significant difference in Average trip_duration between trip_type 1 & 2\n",
      "t-statistic: 2.862021060349731\n",
      "p-value: 0.004256720479737558\n",
      "Hypothesis Inference: Reject Null Hypothesis\n",
      "\n",
      "T_test for trip_type:\n",
      "Null Hypothesis: There is no Significant difference in Average trip_type between trip_type 1 & 2\n",
      "t-statistic: -inf\n",
      "p-value: 0.0\n",
      "Hypothesis Inference: Reject Null Hypothesis\n",
      "\n"
     ]
    },
    {
     "name": "stderr",
     "output_type": "stream",
     "text": [
      "C:\\Users\\kaila\\anaconda3\\Lib\\site-packages\\scipy\\stats\\_axis_nan_policy.py:523: RuntimeWarning: Precision loss occurred in moment calculation due to catastrophic cancellation. This occurs when the data are nearly identical. Results may be unreliable.\n",
      "  res = hypotest_fun_out(*samples, **kwds)\n"
     ]
    }
   ],
   "source": [
    "from scipy.stats import ttest_ind\n",
    "for var in numcols.columns:\n",
    "    trip_type1=numcols[numcols.trip_type==1.0][var]\n",
    "    trip_type2=numcols[numcols.trip_type==2.0][var]\n",
    "    t_stat,p_value=ttest_ind(trip_type1,trip_type2,equal_var=False)\n",
    "    null=f\"There is no Significant difference in Average {var} between trip_type 1 & 2\"\n",
    "    reject_null=\"Reject Null Hypothesis\" if p_value<0.05 else \"Fail to Reject Null Hypothesis\"\n",
    "    print(f\"T_test for {var}:\")\n",
    "    print(f\"Null Hypothesis:\",null)\n",
    "    print(f\"t-statistic:\",t_stat)\n",
    "    print(f\"p-value:\",p_value)\n",
    "    print(f\"Hypothesis Inference:\",reject_null)\n",
    "    print(\"\")"
   ]
  },
  {
   "cell_type": "code",
   "execution_count": 26,
   "id": "e4f2def9-b31c-458d-8121-cf5c28aec9c1",
   "metadata": {},
   "outputs": [
    {
     "data": {
      "text/html": [
       "<div>\n",
       "<style scoped>\n",
       "    .dataframe tbody tr th:only-of-type {\n",
       "        vertical-align: middle;\n",
       "    }\n",
       "\n",
       "    .dataframe tbody tr th {\n",
       "        vertical-align: top;\n",
       "    }\n",
       "\n",
       "    .dataframe thead th {\n",
       "        text-align: right;\n",
       "    }\n",
       "</style>\n",
       "<table border=\"1\" class=\"dataframe\">\n",
       "  <thead>\n",
       "    <tr style=\"text-align: right;\">\n",
       "      <th></th>\n",
       "      <th>passenger_count</th>\n",
       "      <th>trip_distance</th>\n",
       "      <th>fare_amount</th>\n",
       "      <th>extra</th>\n",
       "      <th>mta_tax</th>\n",
       "      <th>tip_amount</th>\n",
       "      <th>tolls_amount</th>\n",
       "      <th>improvement_surcharge</th>\n",
       "      <th>total_amount</th>\n",
       "      <th>congestion_surcharge</th>\n",
       "      <th>trip_duration</th>\n",
       "      <th>trip_type</th>\n",
       "    </tr>\n",
       "    <tr>\n",
       "      <th>payment_type</th>\n",
       "      <th></th>\n",
       "      <th></th>\n",
       "      <th></th>\n",
       "      <th></th>\n",
       "      <th></th>\n",
       "      <th></th>\n",
       "      <th></th>\n",
       "      <th></th>\n",
       "      <th></th>\n",
       "      <th></th>\n",
       "      <th></th>\n",
       "      <th></th>\n",
       "    </tr>\n",
       "  </thead>\n",
       "  <tbody>\n",
       "    <tr>\n",
       "      <th>1.0</th>\n",
       "      <td>1.265278</td>\n",
       "      <td>43.397920</td>\n",
       "      <td>17.217261</td>\n",
       "      <td>0.927954</td>\n",
       "      <td>0.570717</td>\n",
       "      <td>3.184268</td>\n",
       "      <td>0.219712</td>\n",
       "      <td>0.992092</td>\n",
       "      <td>23.812977</td>\n",
       "      <td>0.864897</td>\n",
       "      <td>17.243288</td>\n",
       "      <td>1.030742</td>\n",
       "    </tr>\n",
       "    <tr>\n",
       "      <th>2.0</th>\n",
       "      <td>1.352039</td>\n",
       "      <td>2.591131</td>\n",
       "      <td>16.655549</td>\n",
       "      <td>0.848344</td>\n",
       "      <td>0.594310</td>\n",
       "      <td>0.000000</td>\n",
       "      <td>0.124859</td>\n",
       "      <td>0.989700</td>\n",
       "      <td>19.462542</td>\n",
       "      <td>0.409759</td>\n",
       "      <td>20.987036</td>\n",
       "      <td>1.028656</td>\n",
       "    </tr>\n",
       "    <tr>\n",
       "      <th>3.0</th>\n",
       "      <td>1.338710</td>\n",
       "      <td>0.802327</td>\n",
       "      <td>4.161382</td>\n",
       "      <td>0.499424</td>\n",
       "      <td>0.540323</td>\n",
       "      <td>-0.003825</td>\n",
       "      <td>0.031982</td>\n",
       "      <td>0.361751</td>\n",
       "      <td>5.226982</td>\n",
       "      <td>0.240783</td>\n",
       "      <td>4.453994</td>\n",
       "      <td>1.076037</td>\n",
       "    </tr>\n",
       "    <tr>\n",
       "      <th>4.0</th>\n",
       "      <td>1.375000</td>\n",
       "      <td>0.782969</td>\n",
       "      <td>4.112500</td>\n",
       "      <td>0.353516</td>\n",
       "      <td>0.375000</td>\n",
       "      <td>0.000000</td>\n",
       "      <td>0.054219</td>\n",
       "      <td>0.250000</td>\n",
       "      <td>4.895234</td>\n",
       "      <td>0.064453</td>\n",
       "      <td>5.248307</td>\n",
       "      <td>1.117188</td>\n",
       "    </tr>\n",
       "    <tr>\n",
       "      <th>5.0</th>\n",
       "      <td>1.000000</td>\n",
       "      <td>1.800000</td>\n",
       "      <td>13.500000</td>\n",
       "      <td>0.000000</td>\n",
       "      <td>1.500000</td>\n",
       "      <td>0.000000</td>\n",
       "      <td>0.000000</td>\n",
       "      <td>1.000000</td>\n",
       "      <td>15.000000</td>\n",
       "      <td>0.000000</td>\n",
       "      <td>13.366667</td>\n",
       "      <td>1.000000</td>\n",
       "    </tr>\n",
       "  </tbody>\n",
       "</table>\n",
       "</div>"
      ],
      "text/plain": [
       "              passenger_count  trip_distance  fare_amount     extra   mta_tax  \\\n",
       "payment_type                                                                    \n",
       "1.0                  1.265278      43.397920    17.217261  0.927954  0.570717   \n",
       "2.0                  1.352039       2.591131    16.655549  0.848344  0.594310   \n",
       "3.0                  1.338710       0.802327     4.161382  0.499424  0.540323   \n",
       "4.0                  1.375000       0.782969     4.112500  0.353516  0.375000   \n",
       "5.0                  1.000000       1.800000    13.500000  0.000000  1.500000   \n",
       "\n",
       "              tip_amount  tolls_amount  improvement_surcharge  total_amount  \\\n",
       "payment_type                                                                  \n",
       "1.0             3.184268      0.219712               0.992092     23.812977   \n",
       "2.0             0.000000      0.124859               0.989700     19.462542   \n",
       "3.0            -0.003825      0.031982               0.361751      5.226982   \n",
       "4.0             0.000000      0.054219               0.250000      4.895234   \n",
       "5.0             0.000000      0.000000               1.000000     15.000000   \n",
       "\n",
       "              congestion_surcharge  trip_duration  trip_type  \n",
       "payment_type                                                  \n",
       "1.0                       0.864897      17.243288   1.030742  \n",
       "2.0                       0.409759      20.987036   1.028656  \n",
       "3.0                       0.240783       4.453994   1.076037  \n",
       "4.0                       0.064453       5.248307   1.117188  \n",
       "5.0                       0.000000      13.366667   1.000000  "
      ]
     },
     "execution_count": 26,
     "metadata": {},
     "output_type": "execute_result"
    }
   ],
   "source": [
    "# Anova Single Factor payment_type & all numeric variables\n",
    "numcols.groupby(catcols.payment_type).mean()"
   ]
  },
  {
   "cell_type": "code",
   "execution_count": 27,
   "id": "0f9eb9a2-4c29-493a-96c3-adbde1c4bddc",
   "metadata": {},
   "outputs": [
    {
     "name": "stdout",
     "output_type": "stream",
     "text": [
      "Anova Single Factor for passenger_count:\n",
      "Null Hypothesis: There is no Significant difference in Average passenger_count between different payment_type\n",
      "f-statistic: 24.29496374280226\n",
      "p-value: 4.077912233399605e-20\n",
      "Hypothesis Inference: Reject Null Hypothesis\n",
      "\n",
      "Anova Single Factor for trip_distance:\n",
      "Null Hypothesis: There is no Significant difference in Average trip_distance between different payment_type\n",
      "f-statistic: 2.4269049231613495\n",
      "p-value: 0.04566409847127911\n",
      "Hypothesis Inference: Reject Null Hypothesis\n",
      "\n",
      "Anova Single Factor for fare_amount:\n",
      "Null Hypothesis: There is no Significant difference in Average fare_amount between different payment_type\n",
      "f-statistic: 102.83616016304175\n",
      "p-value: 2.0564456515596947e-87\n",
      "Hypothesis Inference: Reject Null Hypothesis\n",
      "\n",
      "Anova Single Factor for extra:\n",
      "Null Hypothesis: There is no Significant difference in Average extra between different payment_type\n",
      "f-statistic: 25.27637435403122\n",
      "p-value: 5.974694385041364e-21\n",
      "Hypothesis Inference: Reject Null Hypothesis\n",
      "\n",
      "Anova Single Factor for mta_tax:\n",
      "Null Hypothesis: There is no Significant difference in Average mta_tax between different payment_type\n",
      "f-statistic: 22.31115928830982\n",
      "p-value: 1.9704139526247685e-18\n",
      "Hypothesis Inference: Reject Null Hypothesis\n",
      "\n",
      "Anova Single Factor for tip_amount:\n",
      "Null Hypothesis: There is no Significant difference in Average tip_amount between different payment_type\n",
      "f-statistic: 4918.634397843264\n",
      "p-value: 0.0\n",
      "Hypothesis Inference: Reject Null Hypothesis\n",
      "\n",
      "Anova Single Factor for tolls_amount:\n",
      "Null Hypothesis: There is no Significant difference in Average tolls_amount between different payment_type\n",
      "f-statistic: 20.490720604006903\n",
      "p-value: 6.875686790521252e-17\n",
      "Hypothesis Inference: Reject Null Hypothesis\n",
      "\n",
      "Anova Single Factor for improvement_surcharge:\n",
      "Null Hypothesis: There is no Significant difference in Average improvement_surcharge between different payment_type\n",
      "f-statistic: 3918.841284228992\n",
      "p-value: 0.0\n",
      "Hypothesis Inference: Reject Null Hypothesis\n",
      "\n",
      "Anova Single Factor for total_amount:\n",
      "Null Hypothesis: There is no Significant difference in Average total_amount between different payment_type\n",
      "f-statistic: 342.47157701817906\n",
      "p-value: 8.034223532506613e-292\n",
      "Hypothesis Inference: Reject Null Hypothesis\n",
      "\n",
      "Anova Single Factor for congestion_surcharge:\n",
      "Null Hypothesis: There is no Significant difference in Average congestion_surcharge between different payment_type\n",
      "f-statistic: 440.9971422896814\n",
      "p-value: 0.0\n",
      "Hypothesis Inference: Reject Null Hypothesis\n",
      "\n",
      "Anova Single Factor for trip_duration:\n",
      "Null Hypothesis: There is no Significant difference in Average trip_duration between different payment_type\n",
      "f-statistic: 11.586511918783254\n",
      "p-value: 2.104725871253853e-09\n",
      "Hypothesis Inference: Reject Null Hypothesis\n",
      "\n"
     ]
    }
   ],
   "source": [
    "from scipy.stats import f_oneway\n",
    "numcols=numcols[['passenger_count', 'trip_distance', 'fare_amount', 'extra', 'mta_tax',\n",
    "       'tip_amount', 'tolls_amount', 'improvement_surcharge', 'total_amount',\n",
    "       'congestion_surcharge', 'trip_duration']]\n",
    "for var in numcols:\n",
    "    p1=greentaxi[greentaxi.payment_type==1.0][var]\n",
    "    p2=greentaxi[greentaxi.payment_type==2.0][var]\n",
    "    p3=greentaxi[greentaxi.payment_type==3.0][var]\n",
    "    p4=greentaxi[greentaxi.payment_type==4.0][var]\n",
    "    p5=greentaxi[greentaxi.payment_type==5.0][var]\n",
    "    f_stat,p_value=f_oneway(p1,p2,p3,p4,p5)\n",
    "    null=f\"There is no Significant difference in Average {var} between different payment_type\"\n",
    "    reject_null=\"Reject Null Hypothesis\" if p_value<0.05 else \"Fail to Reject Null Hypothesis\"\n",
    "    print(f\"Anova Single Factor for {var}:\")\n",
    "    print(f\"Null Hypothesis:\",null)\n",
    "    print(f\"f-statistic:\",f_stat)\n",
    "    print(f\"p-value:\",p_value)\n",
    "    print(f\"Hypothesis Inference:\",reject_null)\n",
    "    print(\"\")"
   ]
  },
  {
   "cell_type": "code",
   "execution_count": 28,
   "id": "b42e4fc1-f408-4fad-a279-ba3435d254e6",
   "metadata": {},
   "outputs": [
    {
     "name": "stdout",
     "output_type": "stream",
     "text": [
      "Chi SQuare test of Independence for store_and_fwd_flag:\n",
      "Null Hypothesis: There is no Association between  store_and_fwd_flag and payment_type\n",
      "chi-statistic: 43.628065033752065\n",
      "p-value: 7.664575490750332e-09\n",
      "Hypothesis Inference: Reject Null Hypothesis\n",
      "\n",
      "Chi SQuare test of Independence for RatecodeID:\n",
      "Null Hypothesis: There is no Association between  RatecodeID and payment_type\n",
      "chi-statistic: 163.91617780532113\n",
      "p-value: 1.3134810935224118e-24\n",
      "Hypothesis Inference: Reject Null Hypothesis\n",
      "\n",
      "Chi SQuare test of Independence for trip_type:\n",
      "Null Hypothesis: There is no Association between  trip_type and payment_type\n",
      "chi-statistic: 64.42547812513885\n",
      "p-value: 3.400085761868342e-13\n",
      "Hypothesis Inference: Reject Null Hypothesis\n",
      "\n",
      "Chi SQuare test of Independence for hour:\n",
      "Null Hypothesis: There is no Association between  hour and payment_type\n",
      "chi-statistic: 615.9279318291119\n",
      "p-value: 1.6825051424350974e-78\n",
      "Hypothesis Inference: Reject Null Hypothesis\n",
      "\n",
      "Chi SQuare test of Independence for weekday:\n",
      "Null Hypothesis: There is no Association between  weekday and payment_type\n",
      "chi-statistic: 107.73665210390523\n",
      "p-value: 1.3981028881925898e-12\n",
      "Hypothesis Inference: Reject Null Hypothesis\n",
      "\n"
     ]
    }
   ],
   "source": [
    "from scipy.stats import chi2_contingency\n",
    "cat_vars=['store_and_fwd_flag', 'RatecodeID', 'trip_type', 'hour','weekday']\n",
    "for var in cat_vars:\n",
    "    cross_tab=pd.crosstab(greentaxi.payment_type,greentaxi[var])\n",
    "    chi2_stat,p_value,dof,expected=chi2_contingency(cross_tab)\n",
    "    null=f\"There is no Association between  {var} and payment_type\"\n",
    "    reject_null=\"Reject Null Hypothesis\" if p_value<0.05 else \"Fail to Reject Null Hypothesis\"\n",
    "    print(f\"Chi SQuare test of Independence for {var}:\")\n",
    "    print(f\"Null Hypothesis:\",null)\n",
    "    print(f\"chi-statistic:\",chi2_stat)\n",
    "    print(f\"p-value:\",p_value)\n",
    "    print(f\"Hypothesis Inference:\",reject_null)\n",
    "    print(\"\")  "
   ]
  },
  {
   "cell_type": "code",
   "execution_count": 29,
   "id": "b314a5b6-3b96-4e9e-9cf9-d3873d723ff7",
   "metadata": {},
   "outputs": [
    {
     "data": {
      "text/html": [
       "<div>\n",
       "<style scoped>\n",
       "    .dataframe tbody tr th:only-of-type {\n",
       "        vertical-align: middle;\n",
       "    }\n",
       "\n",
       "    .dataframe tbody tr th {\n",
       "        vertical-align: top;\n",
       "    }\n",
       "\n",
       "    .dataframe thead th {\n",
       "        text-align: right;\n",
       "    }\n",
       "</style>\n",
       "<table border=\"1\" class=\"dataframe\">\n",
       "  <thead>\n",
       "    <tr style=\"text-align: right;\">\n",
       "      <th></th>\n",
       "      <th>passenger_count</th>\n",
       "      <th>trip_distance</th>\n",
       "      <th>fare_amount</th>\n",
       "      <th>extra</th>\n",
       "      <th>mta_tax</th>\n",
       "      <th>tip_amount</th>\n",
       "      <th>tolls_amount</th>\n",
       "      <th>improvement_surcharge</th>\n",
       "      <th>total_amount</th>\n",
       "      <th>congestion_surcharge</th>\n",
       "      <th>trip_duration</th>\n",
       "    </tr>\n",
       "  </thead>\n",
       "  <tbody>\n",
       "    <tr>\n",
       "      <th>passenger_count</th>\n",
       "      <td>1.000000</td>\n",
       "      <td>-0.006227</td>\n",
       "      <td>-0.000667</td>\n",
       "      <td>0.031782</td>\n",
       "      <td>-0.058076</td>\n",
       "      <td>0.000147</td>\n",
       "      <td>-0.017526</td>\n",
       "      <td>0.003939</td>\n",
       "      <td>0.002530</td>\n",
       "      <td>0.015785</td>\n",
       "      <td>-0.009505</td>\n",
       "    </tr>\n",
       "    <tr>\n",
       "      <th>trip_distance</th>\n",
       "      <td>-0.006227</td>\n",
       "      <td>1.000000</td>\n",
       "      <td>0.020660</td>\n",
       "      <td>-0.013586</td>\n",
       "      <td>-0.030999</td>\n",
       "      <td>0.002759</td>\n",
       "      <td>0.006122</td>\n",
       "      <td>-0.002325</td>\n",
       "      <td>0.018537</td>\n",
       "      <td>-0.011008</td>\n",
       "      <td>0.002298</td>\n",
       "    </tr>\n",
       "    <tr>\n",
       "      <th>fare_amount</th>\n",
       "      <td>-0.000667</td>\n",
       "      <td>0.020660</td>\n",
       "      <td>1.000000</td>\n",
       "      <td>-0.025866</td>\n",
       "      <td>-0.060834</td>\n",
       "      <td>0.244920</td>\n",
       "      <td>0.314247</td>\n",
       "      <td>0.077252</td>\n",
       "      <td>0.973116</td>\n",
       "      <td>0.078237</td>\n",
       "      <td>0.144999</td>\n",
       "    </tr>\n",
       "    <tr>\n",
       "      <th>extra</th>\n",
       "      <td>0.031782</td>\n",
       "      <td>-0.013586</td>\n",
       "      <td>-0.025866</td>\n",
       "      <td>1.000000</td>\n",
       "      <td>0.237530</td>\n",
       "      <td>0.116518</td>\n",
       "      <td>0.040999</td>\n",
       "      <td>0.074882</td>\n",
       "      <td>0.076051</td>\n",
       "      <td>0.104345</td>\n",
       "      <td>-0.011422</td>\n",
       "    </tr>\n",
       "    <tr>\n",
       "      <th>mta_tax</th>\n",
       "      <td>-0.058076</td>\n",
       "      <td>-0.030999</td>\n",
       "      <td>-0.060834</td>\n",
       "      <td>0.237530</td>\n",
       "      <td>1.000000</td>\n",
       "      <td>-0.045594</td>\n",
       "      <td>0.004222</td>\n",
       "      <td>0.150773</td>\n",
       "      <td>-0.049433</td>\n",
       "      <td>0.061417</td>\n",
       "      <td>-0.012385</td>\n",
       "    </tr>\n",
       "    <tr>\n",
       "      <th>tip_amount</th>\n",
       "      <td>0.000147</td>\n",
       "      <td>0.002759</td>\n",
       "      <td>0.244920</td>\n",
       "      <td>0.116518</td>\n",
       "      <td>-0.045594</td>\n",
       "      <td>1.000000</td>\n",
       "      <td>0.158075</td>\n",
       "      <td>0.045866</td>\n",
       "      <td>0.429210</td>\n",
       "      <td>0.267941</td>\n",
       "      <td>0.017084</td>\n",
       "    </tr>\n",
       "    <tr>\n",
       "      <th>tolls_amount</th>\n",
       "      <td>-0.017526</td>\n",
       "      <td>0.006122</td>\n",
       "      <td>0.314247</td>\n",
       "      <td>0.040999</td>\n",
       "      <td>0.004222</td>\n",
       "      <td>0.158075</td>\n",
       "      <td>1.000000</td>\n",
       "      <td>0.003394</td>\n",
       "      <td>0.381605</td>\n",
       "      <td>-0.052923</td>\n",
       "      <td>0.033840</td>\n",
       "    </tr>\n",
       "    <tr>\n",
       "      <th>improvement_surcharge</th>\n",
       "      <td>0.003939</td>\n",
       "      <td>-0.002325</td>\n",
       "      <td>0.077252</td>\n",
       "      <td>0.074882</td>\n",
       "      <td>0.150773</td>\n",
       "      <td>0.045866</td>\n",
       "      <td>0.003394</td>\n",
       "      <td>1.000000</td>\n",
       "      <td>0.096973</td>\n",
       "      <td>0.032904</td>\n",
       "      <td>0.011243</td>\n",
       "    </tr>\n",
       "    <tr>\n",
       "      <th>total_amount</th>\n",
       "      <td>0.002530</td>\n",
       "      <td>0.018537</td>\n",
       "      <td>0.973116</td>\n",
       "      <td>0.076051</td>\n",
       "      <td>-0.049433</td>\n",
       "      <td>0.429210</td>\n",
       "      <td>0.381605</td>\n",
       "      <td>0.096973</td>\n",
       "      <td>1.000000</td>\n",
       "      <td>0.183720</td>\n",
       "      <td>0.136995</td>\n",
       "    </tr>\n",
       "    <tr>\n",
       "      <th>congestion_surcharge</th>\n",
       "      <td>0.015785</td>\n",
       "      <td>-0.011008</td>\n",
       "      <td>0.078237</td>\n",
       "      <td>0.104345</td>\n",
       "      <td>0.061417</td>\n",
       "      <td>0.267941</td>\n",
       "      <td>-0.052923</td>\n",
       "      <td>0.032904</td>\n",
       "      <td>0.183720</td>\n",
       "      <td>1.000000</td>\n",
       "      <td>0.012349</td>\n",
       "    </tr>\n",
       "    <tr>\n",
       "      <th>trip_duration</th>\n",
       "      <td>-0.009505</td>\n",
       "      <td>0.002298</td>\n",
       "      <td>0.144999</td>\n",
       "      <td>-0.011422</td>\n",
       "      <td>-0.012385</td>\n",
       "      <td>0.017084</td>\n",
       "      <td>0.033840</td>\n",
       "      <td>0.011243</td>\n",
       "      <td>0.136995</td>\n",
       "      <td>0.012349</td>\n",
       "      <td>1.000000</td>\n",
       "    </tr>\n",
       "  </tbody>\n",
       "</table>\n",
       "</div>"
      ],
      "text/plain": [
       "                       passenger_count  trip_distance  fare_amount     extra  \\\n",
       "passenger_count               1.000000      -0.006227    -0.000667  0.031782   \n",
       "trip_distance                -0.006227       1.000000     0.020660 -0.013586   \n",
       "fare_amount                  -0.000667       0.020660     1.000000 -0.025866   \n",
       "extra                         0.031782      -0.013586    -0.025866  1.000000   \n",
       "mta_tax                      -0.058076      -0.030999    -0.060834  0.237530   \n",
       "tip_amount                    0.000147       0.002759     0.244920  0.116518   \n",
       "tolls_amount                 -0.017526       0.006122     0.314247  0.040999   \n",
       "improvement_surcharge         0.003939      -0.002325     0.077252  0.074882   \n",
       "total_amount                  0.002530       0.018537     0.973116  0.076051   \n",
       "congestion_surcharge          0.015785      -0.011008     0.078237  0.104345   \n",
       "trip_duration                -0.009505       0.002298     0.144999 -0.011422   \n",
       "\n",
       "                        mta_tax  tip_amount  tolls_amount  \\\n",
       "passenger_count       -0.058076    0.000147     -0.017526   \n",
       "trip_distance         -0.030999    0.002759      0.006122   \n",
       "fare_amount           -0.060834    0.244920      0.314247   \n",
       "extra                  0.237530    0.116518      0.040999   \n",
       "mta_tax                1.000000   -0.045594      0.004222   \n",
       "tip_amount            -0.045594    1.000000      0.158075   \n",
       "tolls_amount           0.004222    0.158075      1.000000   \n",
       "improvement_surcharge  0.150773    0.045866      0.003394   \n",
       "total_amount          -0.049433    0.429210      0.381605   \n",
       "congestion_surcharge   0.061417    0.267941     -0.052923   \n",
       "trip_duration         -0.012385    0.017084      0.033840   \n",
       "\n",
       "                       improvement_surcharge  total_amount  \\\n",
       "passenger_count                     0.003939      0.002530   \n",
       "trip_distance                      -0.002325      0.018537   \n",
       "fare_amount                         0.077252      0.973116   \n",
       "extra                               0.074882      0.076051   \n",
       "mta_tax                             0.150773     -0.049433   \n",
       "tip_amount                          0.045866      0.429210   \n",
       "tolls_amount                        0.003394      0.381605   \n",
       "improvement_surcharge               1.000000      0.096973   \n",
       "total_amount                        0.096973      1.000000   \n",
       "congestion_surcharge                0.032904      0.183720   \n",
       "trip_duration                       0.011243      0.136995   \n",
       "\n",
       "                       congestion_surcharge  trip_duration  \n",
       "passenger_count                    0.015785      -0.009505  \n",
       "trip_distance                     -0.011008       0.002298  \n",
       "fare_amount                        0.078237       0.144999  \n",
       "extra                              0.104345      -0.011422  \n",
       "mta_tax                            0.061417      -0.012385  \n",
       "tip_amount                         0.267941       0.017084  \n",
       "tolls_amount                      -0.052923       0.033840  \n",
       "improvement_surcharge              0.032904       0.011243  \n",
       "total_amount                       0.183720       0.136995  \n",
       "congestion_surcharge               1.000000       0.012349  \n",
       "trip_duration                      0.012349       1.000000  "
      ]
     },
     "execution_count": 29,
     "metadata": {},
     "output_type": "execute_result"
    }
   ],
   "source": [
    "numcols.corr()"
   ]
  },
  {
   "cell_type": "code",
   "execution_count": 30,
   "id": "f0a4fb56-2e97-468c-a952-5091d4e72c3c",
   "metadata": {},
   "outputs": [
    {
     "data": {
      "text/plain": [
       "<Axes: >"
      ]
     },
     "execution_count": 30,
     "metadata": {},
     "output_type": "execute_result"
    },
    {
     "data": {
      "image/png": "[encoded data removed]",
      "text/plain": [
       "<Figure size 640x480 with 2 Axes>"
      ]
     },
     "metadata": {},
     "output_type": "display_data"
    }
   ],
   "source": [
    "import seaborn as sns\n",
    "sns.heatmap(numcols.corr(),cmap=\"plasma\") # Multicollinearity - total_amount & fare_amount"
   ]
  },
  {
   "cell_type": "code",
   "execution_count": 31,
   "id": "6bd5847e-199b-433e-8f9d-07c51253b6a3",
   "metadata": {},
   "outputs": [],
   "source": [
    "greentaxi=pd.get_dummies(greentaxi,columns=['store_and_fwd_flag', 'RatecodeID', 'payment_type',\n",
    "                                            'trip_type', 'hour','weekday'])"
   ]
  },
  {
   "cell_type": "code",
   "execution_count": 32,
   "id": "e7e5f096-0f96-4755-95bc-ba79e40bb526",
   "metadata": {},
   "outputs": [
    {
     "name": "stdout",
     "output_type": "stream",
     "text": [
      "count    56551.000000\n",
      "mean        22.403186\n",
      "std         16.956518\n",
      "min        -76.500000\n",
      "25%         13.440000\n",
      "50%         18.420000\n",
      "75%         26.600000\n",
      "max       1424.100000\n",
      "Name: total_amount, dtype: float64\n",
      "Outlier Limit: 46.34\n"
     ]
    }
   ],
   "source": [
    "print(greentaxi.total_amount.describe())\n",
    "print(\"Outlier Limit:\",26.60+1.5*(26.60-13.44))"
   ]
  },
  {
   "cell_type": "code",
   "execution_count": 33,
   "id": "ee09a1cc-922b-4044-8578-e1953c648b24",
   "metadata": {},
   "outputs": [
    {
     "data": {
      "text/plain": [
       "216"
      ]
     },
     "execution_count": 33,
     "metadata": {},
     "output_type": "execute_result"
    }
   ],
   "source": [
    "len(greentaxi[greentaxi.total_amount>100]) # Number of Rows in Outliers"
   ]
  },
  {
   "cell_type": "code",
   "execution_count": 34,
   "id": "f9377987-3616-4bc9-842b-7a7275504f16",
   "metadata": {},
   "outputs": [],
   "source": [
    "greentaxi=greentaxi[greentaxi.total_amount<=100] # Drop Outlier Rows"
   ]
  },
  {
   "cell_type": "code",
   "execution_count": 35,
   "id": "0b302549-8e7e-4a49-b9c8-c0c3961bbfa2",
   "metadata": {},
   "outputs": [],
   "source": [
    "y=greentaxi.total_amount\n",
    "X=greentaxi.drop(['VendorID', 'lpep_pickup_datetime', 'lpep_dropoff_datetime',\n",
    "       'PULocationID', 'DOLocationID','total_amount','fare_amount'],axis=1)"
   ]
  },
  {
   "cell_type": "code",
   "execution_count": 36,
   "id": "5a47a208-3909-400d-955d-4bc4d133ec1d",
   "metadata": {},
   "outputs": [
    {
     "name": "stderr",
     "output_type": "stream",
     "text": [
      "C:\\Users\\kaila\\anaconda3\\Lib\\site-packages\\seaborn\\_oldcore.py:1119: FutureWarning: use_inf_as_na option is deprecated and will be removed in a future version. Convert inf values to NaN before operating instead.\n",
      "  with pd.option_context('mode.use_inf_as_na', True):\n",
      "C:\\Users\\kaila\\anaconda3\\Lib\\site-packages\\seaborn\\_oldcore.py:1119: FutureWarning: use_inf_as_na option is deprecated and will be removed in a future version. Convert inf values to NaN before operating instead.\n",
      "  with pd.option_context('mode.use_inf_as_na', True):\n"
     ]
    },
    {
     "data": {
      "image/png": "[encoded data removed]",
      "text/plain": [
       "<Figure size 640x480 with 3 Axes>"
      ]
     },
     "metadata": {},
     "output_type": "display_data"
    }
   ],
   "source": [
    "# Histogram, Boxplot & Density Curve of y\n",
    "fig,ax=plt.subplots(3,1)\n",
    "sns.histplot(y,ax=ax[0])\n",
    "sns.boxplot(y,ax=ax[1],orient=\"h\")\n",
    "sns.kdeplot(y,ax=ax[2])\n",
    "plt.show()"
   ]
  },
  {
   "cell_type": "code",
   "execution_count": 37,
   "id": "2ca54e73-4578-425a-9f6c-b44da4228796",
   "metadata": {},
   "outputs": [],
   "source": [
    "from sklearn.model_selection import train_test_split"
   ]
  },
  {
   "cell_type": "code",
   "execution_count": 38,
   "id": "592db6f0-4dad-436a-9321-e99b8297490f",
   "metadata": {},
   "outputs": [],
   "source": [
    "X_train,X_test,y_train,y_test=train_test_split(X,y,test_size=0.25,random_state=42)"
   ]
  },
  {
   "cell_type": "code",
   "execution_count": 39,
   "id": "f52808ea-5302-48ff-ac8c-454e6ef77658",
   "metadata": {},
   "outputs": [],
   "source": [
    "# Hyper Paramter Tuning for Decision Tree. 1) max_depth() - depth or levels of tree\n",
    "# 2) min_samples_split - minimum number of samples required to split an internal node\n",
    "# 3) minimum number of samples required to be at a leaf node. A split point at any depth will only be \n",
    "# considered if it leaves at least min_samples_leaf training samples in each of the left and right \n",
    "# branches. "
   ]
  },
  {
   "cell_type": "code",
   "execution_count": 40,
   "id": "30f1ab08-93c8-4dd0-8dba-5fd0a4545656",
   "metadata": {},
   "outputs": [],
   "source": [
    "from sklearn.tree import DecisionTreeRegressor\n",
    "from sklearn.model_selection import GridSearchCV"
   ]
  },
  {
   "cell_type": "code",
   "execution_count": 41,
   "id": "f9223e40-ee5d-4d62-9f7b-80be9f7097c0",
   "metadata": {},
   "outputs": [],
   "source": [
    "tree=DecisionTreeRegressor()"
   ]
  },
  {
   "cell_type": "code",
   "execution_count": 42,
   "id": "23507b5c-12d0-4322-a062-d49676eaa26d",
   "metadata": {},
   "outputs": [],
   "source": [
    "# Hyper Parameters\n",
    "param_grid={'max_depth':[6,8,10,12],'min_samples_split':[2,5,10],'min_samples_leaf':[1,2,4]}"
   ]
  },
  {
   "cell_type": "code",
   "execution_count": 54,
   "id": "7b6e5e09-2fac-412f-ab34-4970a5318b72",
   "metadata": {},
   "outputs": [],
   "source": [
    "grid_search=GridSearchCV(estimator=tree,param_grid=param_grid,cv=3,scoring='r2')"
   ]
  },
  {
   "cell_type": "code",
   "execution_count": 55,
   "id": "67dddeca-69ab-480d-a58d-d9dde80920a8",
   "metadata": {},
   "outputs": [
    {
     "data": {
      "text/html": [
       "<style>#sk-container-id-5 {color: black;background-color: white;}#sk-container-id-5 pre{padding: 0;}#sk-container-id-5 div.sk-toggleable {background-color: white;}#sk-container-id-5 label.sk-toggleable__label {cursor: pointer;display: block;width: 100%;margin-bottom: 0;padding: 0.3em;box-sizing: border-box;text-align: center;}#sk-container-id-5 label.sk-toggleable__label-arrow:before {content: \"▸\";float: left;margin-right: 0.25em;color: #696969;}#sk-container-id-5 label.sk-toggleable__label-arrow:hover:before {color: black;}#sk-container-id-5 div.sk-estimator:hover label.sk-toggleable__label-arrow:before {color: black;}#sk-container-id-5 div.sk-toggleable__content {max-height: 0;max-width: 0;overflow: hidden;text-align: left;background-color: #f0f8ff;}#sk-container-id-5 div.sk-toggleable__content pre {margin: 0.2em;color: black;border-radius: 0.25em;background-color: #f0f8ff;}#sk-container-id-5 input.sk-toggleable__control:checked~div.sk-toggleable__content {max-height: 200px;max-width: 100%;overflow: auto;}#sk-container-id-5 input.sk-toggleable__control:checked~label.sk-toggleable__label-arrow:before {content: \"▾\";}#sk-container-id-5 div.sk-estimator input.sk-toggleable__control:checked~label.sk-toggleable__label {background-color: #d4ebff;}#sk-container-id-5 div.sk-label input.sk-toggleable__control:checked~label.sk-toggleable__label {background-color: #d4ebff;}#sk-container-id-5 input.sk-hidden--visually {border: 0;clip: rect(1px 1px 1px 1px);clip: rect(1px, 1px, 1px, 1px);height: 1px;margin: -1px;overflow: hidden;padding: 0;position: absolute;width: 1px;}#sk-container-id-5 div.sk-estimator {font-family: monospace;background-color: #f0f8ff;border: 1px dotted black;border-radius: 0.25em;box-sizing: border-box;margin-bottom: 0.5em;}#sk-container-id-5 div.sk-estimator:hover {background-color: #d4ebff;}#sk-container-id-5 div.sk-parallel-item::after {content: \"\";width: 100%;border-bottom: 1px solid gray;flex-grow: 1;}#sk-container-id-5 div.sk-label:hover label.sk-toggleable__label {background-color: #d4ebff;}#sk-container-id-5 div.sk-serial::before {content: \"\";position: absolute;border-left: 1px solid gray;box-sizing: border-box;top: 0;bottom: 0;left: 50%;z-index: 0;}#sk-container-id-5 div.sk-serial {display: flex;flex-direction: column;align-items: center;background-color: white;padding-right: 0.2em;padding-left: 0.2em;position: relative;}#sk-container-id-5 div.sk-item {position: relative;z-index: 1;}#sk-container-id-5 div.sk-parallel {display: flex;align-items: stretch;justify-content: center;background-color: white;position: relative;}#sk-container-id-5 div.sk-item::before, #sk-container-id-5 div.sk-parallel-item::before {content: \"\";position: absolute;border-left: 1px solid gray;box-sizing: border-box;top: 0;bottom: 0;left: 50%;z-index: -1;}#sk-container-id-5 div.sk-parallel-item {display: flex;flex-direction: column;z-index: 1;position: relative;background-color: white;}#sk-container-id-5 div.sk-parallel-item:first-child::after {align-self: flex-end;width: 50%;}#sk-container-id-5 div.sk-parallel-item:last-child::after {align-self: flex-start;width: 50%;}#sk-container-id-5 div.sk-parallel-item:only-child::after {width: 0;}#sk-container-id-5 div.sk-dashed-wrapped {border: 1px dashed gray;margin: 0 0.4em 0.5em 0.4em;box-sizing: border-box;padding-bottom: 0.4em;background-color: white;}#sk-container-id-5 div.sk-label label {font-family: monospace;font-weight: bold;display: inline-block;line-height: 1.2em;}#sk-container-id-5 div.sk-label-container {text-align: center;}#sk-container-id-5 div.sk-container {/* jupyter's `normalize.less` sets `[hidden] { display: none; }` but bootstrap.min.css set `[hidden] { display: none !important; }` so we also need the `!important` here to be able to override the default hidden behavior on the sphinx rendered scikit-learn.org. See: https://github.com/scikit-learn/scikit-learn/issues/21755 */display: inline-block !important;position: relative;}#sk-container-id-5 div.sk-text-repr-fallback {display: none;}</style><div id=\"sk-container-id-5\" class=\"sk-top-container\"><div class=\"sk-text-repr-fallback\"><pre>GridSearchCV(cv=3, estimator=DecisionTreeRegressor(),\n",
       "             param_grid={&#x27;max_depth&#x27;: [6, 8, 10, 12],\n",
       "                         &#x27;min_samples_leaf&#x27;: [1, 2, 4],\n",
       "                         &#x27;min_samples_split&#x27;: [2, 5, 10]},\n",
       "             scoring=&#x27;r2&#x27;)</pre><b>In a Jupyter environment, please rerun this cell to show the HTML representation or trust the notebook. <br />On GitHub, the HTML representation is unable to render, please try loading this page with nbviewer.org.</b></div><div class=\"sk-container\" hidden><div class=\"sk-item sk-dashed-wrapped\"><div class=\"sk-label-container\"><div class=\"sk-label sk-toggleable\"><input class=\"sk-toggleable__control sk-hidden--visually\" id=\"sk-estimator-id-9\" type=\"checkbox\" ><label for=\"sk-estimator-id-9\" class=\"sk-toggleable__label sk-toggleable__label-arrow\">GridSearchCV</label><div class=\"sk-toggleable__content\"><pre>GridSearchCV(cv=3, estimator=DecisionTreeRegressor(),\n",
       "             param_grid={&#x27;max_depth&#x27;: [6, 8, 10, 12],\n",
       "                         &#x27;min_samples_leaf&#x27;: [1, 2, 4],\n",
       "                         &#x27;min_samples_split&#x27;: [2, 5, 10]},\n",
       "             scoring=&#x27;r2&#x27;)</pre></div></div></div><div class=\"sk-parallel\"><div class=\"sk-parallel-item\"><div class=\"sk-item\"><div class=\"sk-label-container\"><div class=\"sk-label sk-toggleable\"><input class=\"sk-toggleable__control sk-hidden--visually\" id=\"sk-estimator-id-10\" type=\"checkbox\" ><label for=\"sk-estimator-id-10\" class=\"sk-toggleable__label sk-toggleable__label-arrow\">estimator: DecisionTreeRegressor</label><div class=\"sk-toggleable__content\"><pre>DecisionTreeRegressor()</pre></div></div></div><div class=\"sk-serial\"><div class=\"sk-item\"><div class=\"sk-estimator sk-toggleable\"><input class=\"sk-toggleable__control sk-hidden--visually\" id=\"sk-estimator-id-11\" type=\"checkbox\" ><label for=\"sk-estimator-id-11\" class=\"sk-toggleable__label sk-toggleable__label-arrow\">DecisionTreeRegressor</label><div class=\"sk-toggleable__content\"><pre>DecisionTreeRegressor()</pre></div></div></div></div></div></div></div></div></div></div>"
      ],
      "text/plain": [
       "GridSearchCV(cv=3, estimator=DecisionTreeRegressor(),\n",
       "             param_grid={'max_depth': [6, 8, 10, 12],\n",
       "                         'min_samples_leaf': [1, 2, 4],\n",
       "                         'min_samples_split': [2, 5, 10]},\n",
       "             scoring='r2')"
      ]
     },
     "execution_count": 55,
     "metadata": {},
     "output_type": "execute_result"
    }
   ],
   "source": [
    "grid_search.fit(X_train,y_train)"
   ]
  },
  {
   "cell_type": "code",
   "execution_count": 56,
   "id": "ba70698e-fc1b-455c-a604-278fa13b4bd3",
   "metadata": {},
   "outputs": [
    {
     "data": {
      "text/html": [
       "<style>#sk-container-id-6 {color: black;background-color: white;}#sk-container-id-6 pre{padding: 0;}#sk-container-id-6 div.sk-toggleable {background-color: white;}#sk-container-id-6 label.sk-toggleable__label {cursor: pointer;display: block;width: 100%;margin-bottom: 0;padding: 0.3em;box-sizing: border-box;text-align: center;}#sk-container-id-6 label.sk-toggleable__label-arrow:before {content: \"▸\";float: left;margin-right: 0.25em;color: #696969;}#sk-container-id-6 label.sk-toggleable__label-arrow:hover:before {color: black;}#sk-container-id-6 div.sk-estimator:hover label.sk-toggleable__label-arrow:before {color: black;}#sk-container-id-6 div.sk-toggleable__content {max-height: 0;max-width: 0;overflow: hidden;text-align: left;background-color: #f0f8ff;}#sk-container-id-6 div.sk-toggleable__content pre {margin: 0.2em;color: black;border-radius: 0.25em;background-color: #f0f8ff;}#sk-container-id-6 input.sk-toggleable__control:checked~div.sk-toggleable__content {max-height: 200px;max-width: 100%;overflow: auto;}#sk-container-id-6 input.sk-toggleable__control:checked~label.sk-toggleable__label-arrow:before {content: \"▾\";}#sk-container-id-6 div.sk-estimator input.sk-toggleable__control:checked~label.sk-toggleable__label {background-color: #d4ebff;}#sk-container-id-6 div.sk-label input.sk-toggleable__control:checked~label.sk-toggleable__label {background-color: #d4ebff;}#sk-container-id-6 input.sk-hidden--visually {border: 0;clip: rect(1px 1px 1px 1px);clip: rect(1px, 1px, 1px, 1px);height: 1px;margin: -1px;overflow: hidden;padding: 0;position: absolute;width: 1px;}#sk-container-id-6 div.sk-estimator {font-family: monospace;background-color: #f0f8ff;border: 1px dotted black;border-radius: 0.25em;box-sizing: border-box;margin-bottom: 0.5em;}#sk-container-id-6 div.sk-estimator:hover {background-color: #d4ebff;}#sk-container-id-6 div.sk-parallel-item::after {content: \"\";width: 100%;border-bottom: 1px solid gray;flex-grow: 1;}#sk-container-id-6 div.sk-label:hover label.sk-toggleable__label {background-color: #d4ebff;}#sk-container-id-6 div.sk-serial::before {content: \"\";position: absolute;border-left: 1px solid gray;box-sizing: border-box;top: 0;bottom: 0;left: 50%;z-index: 0;}#sk-container-id-6 div.sk-serial {display: flex;flex-direction: column;align-items: center;background-color: white;padding-right: 0.2em;padding-left: 0.2em;position: relative;}#sk-container-id-6 div.sk-item {position: relative;z-index: 1;}#sk-container-id-6 div.sk-parallel {display: flex;align-items: stretch;justify-content: center;background-color: white;position: relative;}#sk-container-id-6 div.sk-item::before, #sk-container-id-6 div.sk-parallel-item::before {content: \"\";position: absolute;border-left: 1px solid gray;box-sizing: border-box;top: 0;bottom: 0;left: 50%;z-index: -1;}#sk-container-id-6 div.sk-parallel-item {display: flex;flex-direction: column;z-index: 1;position: relative;background-color: white;}#sk-container-id-6 div.sk-parallel-item:first-child::after {align-self: flex-end;width: 50%;}#sk-container-id-6 div.sk-parallel-item:last-child::after {align-self: flex-start;width: 50%;}#sk-container-id-6 div.sk-parallel-item:only-child::after {width: 0;}#sk-container-id-6 div.sk-dashed-wrapped {border: 1px dashed gray;margin: 0 0.4em 0.5em 0.4em;box-sizing: border-box;padding-bottom: 0.4em;background-color: white;}#sk-container-id-6 div.sk-label label {font-family: monospace;font-weight: bold;display: inline-block;line-height: 1.2em;}#sk-container-id-6 div.sk-label-container {text-align: center;}#sk-container-id-6 div.sk-container {/* jupyter's `normalize.less` sets `[hidden] { display: none; }` but bootstrap.min.css set `[hidden] { display: none !important; }` so we also need the `!important` here to be able to override the default hidden behavior on the sphinx rendered scikit-learn.org. See: https://github.com/scikit-learn/scikit-learn/issues/21755 */display: inline-block !important;position: relative;}#sk-container-id-6 div.sk-text-repr-fallback {display: none;}</style><div id=\"sk-container-id-6\" class=\"sk-top-container\"><div class=\"sk-text-repr-fallback\"><pre>DecisionTreeRegressor(max_depth=12, min_samples_leaf=4, min_samples_split=10)</pre><b>In a Jupyter environment, please rerun this cell to show the HTML representation or trust the notebook. <br />On GitHub, the HTML representation is unable to render, please try loading this page with nbviewer.org.</b></div><div class=\"sk-container\" hidden><div class=\"sk-item\"><div class=\"sk-estimator sk-toggleable\"><input class=\"sk-toggleable__control sk-hidden--visually\" id=\"sk-estimator-id-12\" type=\"checkbox\" checked><label for=\"sk-estimator-id-12\" class=\"sk-toggleable__label sk-toggleable__label-arrow\">DecisionTreeRegressor</label><div class=\"sk-toggleable__content\"><pre>DecisionTreeRegressor(max_depth=12, min_samples_leaf=4, min_samples_split=10)</pre></div></div></div></div></div>"
      ],
      "text/plain": [
       "DecisionTreeRegressor(max_depth=12, min_samples_leaf=4, min_samples_split=10)"
      ]
     },
     "execution_count": 56,
     "metadata": {},
     "output_type": "execute_result"
    }
   ],
   "source": [
    "grid_search.best_estimator_"
   ]
  },
  {
   "cell_type": "code",
   "execution_count": 57,
   "id": "1f68aa52-b634-4eb8-b00c-ec429f6f6e1e",
   "metadata": {},
   "outputs": [
    {
     "data": {
      "text/plain": [
       "0.9032194452036135"
      ]
     },
     "execution_count": 57,
     "metadata": {},
     "output_type": "execute_result"
    }
   ],
   "source": [
    "grid_search.best_score_"
   ]
  },
  {
   "cell_type": "code",
   "execution_count": 58,
   "id": "11ff39ae-0615-46c4-9ad2-65924333bb95",
   "metadata": {},
   "outputs": [],
   "source": [
    "y_pred=grid_search.best_estimator_.predict(X_test)"
   ]
  },
  {
   "cell_type": "code",
   "execution_count": 59,
   "id": "6b566f2d-7048-45b0-a9e8-4f2fd20f42f1",
   "metadata": {},
   "outputs": [],
   "source": [
    "from sklearn.metrics import mean_squared_error"
   ]
  },
  {
   "cell_type": "code",
   "execution_count": 60,
   "id": "e6771041-231c-43e0-9161-115b623af749",
   "metadata": {},
   "outputs": [
    {
     "data": {
      "text/plain": [
       "4.060660092119225"
      ]
     },
     "execution_count": 60,
     "metadata": {},
     "output_type": "execute_result"
    }
   ],
   "source": [
    "np.sqrt(mean_squared_error(y_test,y_pred)) # RMSE"
   ]
  },
  {
   "cell_type": "code",
   "execution_count": null,
   "id": "e83ef820-6100-44aa-a366-c94ac17a9473",
   "metadata": {},
   "outputs": [],
   "source": []
  }
 ],
 "metadata": {
  "kernelspec": {
   "display_name": "Python 3 (ipykernel)",
   "language": "python",
   "name": "python3"
  },
  "language_info": {
   "codemirror_mode": {
    "name": "ipython",
    "version": 3
   },
   "file_extension": ".py",
   "mimetype": "text/x-python",
   "name": "python",
   "nbconvert_exporter": "python",
   "pygments_lexer": "ipython3",
   "version": "3.11.7"
  }
 },
 "nbformat": 4,
 "nbformat_minor": 5
}
